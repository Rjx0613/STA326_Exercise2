{
 "cells": [
  {
   "cell_type": "code",
   "execution_count": 1,
   "id": "81323afd",
   "metadata": {},
   "outputs": [],
   "source": [
    "import requests\n",
    "from bs4 import BeautifulSoup"
   ]
  },
  {
   "cell_type": "code",
   "execution_count": 2,
   "id": "6457b727",
   "metadata": {},
   "outputs": [],
   "source": [
    "header = {\n",
    "    \"User-Agent\": \"Mozilla/5.0 (Windows NT 10.0; Win64; x64) AppleWebKit/537.36 (KHTML, like Gecko) Chrome/122.0.0.0 Safari/537.36 Edg/122.0.0.0\",\n",
    "    \"Accept\": \"*/*\",\n",
    "    \"Connection\": \"close\",\n",
    "}"
   ]
  },
  {
   "cell_type": "code",
   "execution_count": 3,
   "id": "7446a2f8",
   "metadata": {},
   "outputs": [],
   "source": [
    "url=\"https://arxiv.org/list/cs/pastweek?skip=0&show=100\"\n",
    "page=requests.get(url=url,headers=header)\n",
    "soup=BeautifulSoup(page.text,'html.parser')"
   ]
  },
  {
   "cell_type": "code",
   "execution_count": 8,
   "id": "52f591dd",
   "metadata": {},
   "outputs": [
    {
     "ename": "IndexError",
     "evalue": "list index out of range",
     "output_type": "error",
     "traceback": [
      "\u001b[0;31m---------------------------------------------------------------------------\u001b[0m",
      "\u001b[0;31mIndexError\u001b[0m                                Traceback (most recent call last)",
      "Cell \u001b[0;32mIn[8], line 8\u001b[0m\n\u001b[1;32m      6\u001b[0m     html\u001b[38;5;241m=\u001b[39mrequests\u001b[38;5;241m.\u001b[39mget(url\u001b[38;5;241m=\u001b[39mindex)\n\u001b[1;32m      7\u001b[0m     soups\u001b[38;5;241m=\u001b[39mBeautifulSoup(html\u001b[38;5;241m.\u001b[39mtext,\u001b[38;5;124m'\u001b[39m\u001b[38;5;124mhtml.parser\u001b[39m\u001b[38;5;124m'\u001b[39m)\n\u001b[0;32m----> 8\u001b[0m     abstract\u001b[38;5;241m.\u001b[39mappend(\u001b[43msoups\u001b[49m\u001b[38;5;241;43m.\u001b[39;49m\u001b[43mselect\u001b[49m\u001b[43m(\u001b[49m\u001b[38;5;124;43m'\u001b[39;49m\u001b[38;5;124;43mmeta[property=\u001b[39;49m\u001b[38;5;124;43m\"\u001b[39;49m\u001b[38;5;124;43mog:description\u001b[39;49m\u001b[38;5;124;43m\"\u001b[39;49m\u001b[38;5;124;43m]\u001b[39;49m\u001b[38;5;124;43m'\u001b[39;49m\u001b[43m)\u001b[49m\u001b[43m[\u001b[49m\u001b[38;5;241;43m0\u001b[39;49m\u001b[43m]\u001b[49m[\u001b[38;5;124m'\u001b[39m\u001b[38;5;124mcontent\u001b[39m\u001b[38;5;124m'\u001b[39m])\n\u001b[1;32m      9\u001b[0m abstract\n",
      "\u001b[0;31mIndexError\u001b[0m: list index out of range"
     ]
    }
   ],
   "source": [
    "abstracts_soup=soup.select('dt span a')\n",
    "abstracts_url=[\"https://arxiv.org\"+u['href'] for u in abstracts_soup]\n",
    "abstract=[]\n",
    "for i in range(100):\n",
    "    index=abstracts_url[i]\n",
    "    html=requests.get(url=index)\n",
    "    soups=BeautifulSoup(html.text,'html.parser')\n",
    "    abstract.append(soups.select('meta[property=\"og:description\"]')[0]['content'])\n",
    "abstract"
   ]
  },
  {
   "cell_type": "code",
   "execution_count": 38,
   "id": "c7cf171f",
   "metadata": {},
   "outputs": [],
   "source": [
    "title=[]\n",
    "Subjects=[]\n",
    "Authors=[]"
   ]
  },
  {
   "cell_type": "code",
   "execution_count": 34,
   "id": "b9532d85",
   "metadata": {},
   "outputs": [
    {
     "data": {
      "text/plain": [
       "'Computer Vision and Pattern Recognition (cs.CV)'"
      ]
     },
     "execution_count": 34,
     "metadata": {},
     "output_type": "execute_result"
    }
   ],
   "source": [
    "b=soup.select('dd')[0].select_one('div span[class=\"primary-subject\"]')\n",
    "b.text"
   ]
  },
  {
   "cell_type": "code",
   "execution_count": 39,
   "id": "e38748f0",
   "metadata": {},
   "outputs": [],
   "source": [
    "for article in soup.select('dd'):\n",
    "    title_info=article.select_one('div[class=\"list-title mathjax\"]')\n",
    "    title.append(title_info.find(\"span\",class_=\"descriptor\").next_sibling.text.replace(\"\\n\",\"\"))\n",
    "    Authors.append(article.select_one('div[class=\"list-authors\"]').text.replace(\"\\n\",\"\").replace(\"Authors:\",\"\"))\n",
    "    Subjects.append(article.select_one('div span[class=\"primary-subject\"]').text)"
   ]
  },
  {
   "cell_type": "code",
   "execution_count": 41,
   "id": "c5df544f",
   "metadata": {},
   "outputs": [
    {
     "data": {
      "text/plain": [
       "['Tao Zhang, Xiangtai Li, Haobo Yuan, Shunping Ji, Shuicheng Yan',\n",
       " 'Qingyan Guo, Rui Wang, Junliang Guo, Xu Tan, Jiang Bian, Yujiu Yang',\n",
       " 'Imran Khan, Tuyen X. Tran, Matti Hiltunen, Theodore Karagioules, Dimitrios Koutsonikolas',\n",
       " 'János Kramár, Tom Lieberum, Rohin Shah, Neel Nanda (Google DeepMind)',\n",
       " 'Joshua Dennis Booth, Hongyang Sun, Trevor Garnett',\n",
       " 'Valentin Hofmann, Pratyusha Ria Kalluri, Dan Jurafsky, Sharese King',\n",
       " 'Marijn J.H. Heule, Manfred Scheucher',\n",
       " 'Chuan Wen, Dinesh Jayaraman, Yang Gao',\n",
       " 'Masoumeh Moradian, Aresh Dadlani, Rasul Kairgeldin, Ahmad Khonsari',\n",
       " 'Jiaying Gong, Hoda Eldardiry',\n",
       " 'Pietro Sittoni, Francesco Tudisco',\n",
       " 'JooYoung Seo, Yilin Xia, Bongshin Lee, Sean McCurry, Yu Jun Yam',\n",
       " 'Shinji Ito, Taira Tsuchiya, Junya Honda',\n",
       " 'Gwangbin Bae, Andrew J. Davison',\n",
       " 'Sergey Goncharov',\n",
       " 'Christopher Malon, Xiaodan Zhu',\n",
       " 'Kangning Yin, Shihao Zou, Yuxuan Ge, Zheng Tian',\n",
       " 'Dominik Jeurissen, Diego Perez-Liebana, Jeremy Gow, Duygu Cakmak, James Kwan',\n",
       " 'Thomas Britton, Torri Jeske, David Lawrence, Kishansingh Rajput',\n",
       " 'Catherine Arnett, Tyler A. Chang, Benjamin K. Bergen',\n",
       " 'Gabriele Sacco, Loris Bozzato, Oliver Kutz',\n",
       " 'Harry Yserentant',\n",
       " 'Susanne Frick, Amer Krivošija, Alexander Munteanu',\n",
       " 'Yifan Lin, Yuhao Wang, Enlu Zhou',\n",
       " 'Unnikrishnan Kunnath Ganesan, Tung Thanh Vu, Erik G. Larsson',\n",
       " 'Yanxiao Zhao, Yangge Qian, Tianyi Wang, Jingyang Shan, Xiaolin Qin',\n",
       " 'Amirul Islam Saimon, Emmanuel Yangue, Xiaowei Yue, Zhenyu (James)Kong, Chenang Liu',\n",
       " 'Marcello Morini, Eugenio Moro, Ilario Filippini, Antonio Capone, Danilo De Donno',\n",
       " 'Hanzhi Yu, Mingzhe Chen, Yuchen Liu',\n",
       " 'Lina Ruiz, Franklin Sierra-Jerez, Jair Ruiz, Fabio Martinez',\n",
       " 'Milad Alshomary, Felix Lange, Meisam Booshehri, Meghdut Sengupta, Philipp Cimiano, Henning Wachsmuth',\n",
       " 'Igor Pontes Duff, Pawan Goyal, Peter Benner',\n",
       " 'Yangyang Qian, Lu Liu',\n",
       " 'Yuhao Liu, Fang Liu, Zhanghan Ke, Nanxuan Zhao, Rynson W.H. Lau',\n",
       " 'Pascal Koiran, Subhayan Saha',\n",
       " 'Xianghong Fang, Jian Li, Qiang Sun, Benyou Wang',\n",
       " 'Lauren Bramblett, Branko Miloradovic, Patrick Sherman, Alessandro V. Papadopoulos, Nicola Bezzo',\n",
       " 'Maria C. Borges, Joshua Bauer, Sebastian Werner, Michael Gebauer, Stefan Tai',\n",
       " 'Qian Wan, Xin Feng, Yining Bei, Zhiqi Gao, Zhicong Lu',\n",
       " 'Hazhir Aliahmadi, Ruben Perez, Greg van Anders',\n",
       " 'Yuxi Liu, Wenhan Yang, Huihui Bai, Yunchao Wei, Yao Zhao',\n",
       " 'Yixuan Zhang, Feng Zhou',\n",
       " 'Yu Fan, Xiaoliang Li, Shuoguo Zhang, Xiangyu Hu, Nikolaus A. Adams',\n",
       " 'Charles Pillet, Ilshat Sagitov, Valerio Bioglio, Pascal Giard',\n",
       " 'Majdoddin Esfandiari, Sergiy A. Vorobyov, Robert W. Heath Jr',\n",
       " 'Vishnu Veeraraghavan, Kyle Hunte, Jingang Yi, Kaiyan Yu',\n",
       " 'Vincent Corlay, Viet-Hoa Nguyen, Nicolas Gresset',\n",
       " 'Joseph E. McCarthy, Mathieu Dahan, Chelsea C. White III',\n",
       " 'Zexin Feng, Na Zeng, Jiansheng Fang, Xingyue Wang, Xiaoxi Lu, Heng Meng, Jiang Liu',\n",
       " 'Gergely Csáji',\n",
       " 'José A. Cañizo, Alejandro Ramos-Lora',\n",
       " 'Zhaochong An, Guolei Sun, Yun Liu, Fayao Liu, Zongwei Wu, Dan Wang, Luc Van Gool, Serge Belongie',\n",
       " 'Zhenwei He, Lei Zhang',\n",
       " 'Neta Rozen-Schiff, Itzcak Pechtalt, Amit Navon, Leon Bruckman',\n",
       " 'Ander Salaberria, Gorka Azkune, Oier Lopez de Lacalle, Aitor Soroa, Eneko Agirre, Frank Keller',\n",
       " 'Sophie Fischer, Federico Rossetto, Carlos Gemmell, Andrew Ramsay, Iain Mackie, Philip Zubel, Niklas Tecklenburg, Jeffrey Dalton',\n",
       " 'Wenbo Huang, Xudong You, Kai Wan, Robert Caiming Qiu, Mingyue Ji',\n",
       " 'Ghazal Fazelnia, Sanket Gupta, Claire Keum, Mark Koh, Ian Anderson, Mounia Lalmas',\n",
       " 'Nicolas Scharowski, Sebastian A. C. Perrig, Lena Fanya Aeschbach, Nick von Felten, Klaus Opwis, Philipp Wintersberger, Florian Brühlmann',\n",
       " 'Guseul Heo, Sangyeop Lee, Jaehong Cho, Hyunmin Choi, Sanghyeon Lee, Hyungkyu Ham, Gwangsun Kim, Divya Mahajan, Jongse Park',\n",
       " 'Aurelio Raffa Ugolini, Valentina Breschi, Andrea Manzoni, Mara Tanelli',\n",
       " 'Toki Tahmid Inan, Mingrui Liu, Amarda Shehu',\n",
       " 'Musab Al-Ghadi, Joris Voerman, Souhail Bakkali, Mickaël Coustaty, Nicolas Sidere, Xavier St-Georges',\n",
       " 'Axel Klawonn, Martin Lanser, Lucas Mager, Ameya Rege',\n",
       " 'Nikolas Adaloglou, Tim Kaiser, Felix Michels, Markus Kollmann',\n",
       " 'Yixiong Zou, Yicong Liu, Yiman Hu, Yuhua Li, Ruixuan Li',\n",
       " 'Katherine Margaret Frances James, Karoline Heiwolt, Daniel James Sargent, Grzegorz Cielniak',\n",
       " 'Tarik Crnovrsanin, Calvin Yu, Dane Hankamer, Cody Dunne',\n",
       " 'Shengjie Wang, Shaohuai Liu, Weirui Ye, Jiacheng You, Yang Gao',\n",
       " 'Alfred Nilsson, Klas Wijk, Sai bharath chandra Gutha, Erik Englesson, Alexandra Hotti, Carlo Saccardi, Oskar Kviman, Jens Lagergren, Ricardo Vinuesa, Hossein Azizpour',\n",
       " 'Huaqing Yuan, Yi He, Peng Du, Lu Song',\n",
       " 'Daniel Huczala, Johannes Siegele, Daren A. Thimm, Martin Pfurner, Hans-Peter Schröcker',\n",
       " 'Jake Witter, Conor Houghton',\n",
       " 'Hoang Anh Tran, Tor Arne Johansen, Rudy R. Negenborn',\n",
       " 'Chantal Shaib, Joe Barrow, Jiuding Sun, Alexa F. Siu, Byron C. Wallace, Ani Nenkova',\n",
       " 'Nathan Gavenski, Michael Luck, Odinaldo Rodrigues',\n",
       " 'Rida Saghir, Thenuka Karunathilake, Anna Förster',\n",
       " 'Yuting Li, Yingyi Chen, Xuanlong Yu, Dexiong Chen, Xi Shen',\n",
       " 'Sofia Ramos-Pulido, Neil Hernandez-Gress, Hector G. Ceballos-Cancino (Tecnologico de Monterrey, Mexico)',\n",
       " 'Bach Do, Ruda Zhang',\n",
       " 'Islem Bouzenia, Bajaj Piyush Krishan, Michael Pradel',\n",
       " 'Moritz Buchem, Paul Deuker, Andreas Wiese',\n",
       " 'Weiwei Lin, Chenhang He, Man-Wai Mak, Jiachen Lian, Kong Aik Lee',\n",
       " 'Edward Whittaker, Ikuo Kitagishi',\n",
       " 'PiaoHong Wang, Siying Hu, Bo Wen, Zhicong Lu',\n",
       " 'Sedir Mohammed, Hazar Harmouch, Felix Naumann, Divesh Srivastava',\n",
       " 'Xiangxiang Chu, Jianlin Su, Bo Zhang, Chunhua Shen',\n",
       " 'Nolwenn Bernard, Ivica Kostric, Krisztian Balog',\n",
       " 'Fabio Widmer, Stijn van Dooren, Christopher H. Onder',\n",
       " 'Felix Moebius, Tobias Pfandzelter, David Bermbach',\n",
       " 'Michal Nauman, Michał Bortkiewicz, Mateusz Ostaszewski, Piotr Miłoś, Tomasz Trzciński, Marek Cygan',\n",
       " 'Bo Li, Qinghua Zhao, Lijie Wen',\n",
       " 'Yuqi Chen, Sixuan Li, Ying Li, Mohammad Atari',\n",
       " 'Deborah N. Jakobi, Thomas Kern, David R. Reich, Patrick Haller, Lena A. Jäger',\n",
       " 'Quentin Garrido, Mahmoud Assran, Nicolas Ballas, Adrien Bardes, Laurent Najman, Yann LeCun',\n",
       " 'Ariel Goldstein, Gabriel Stanovsky',\n",
       " 'Tala Eagling-Vose, Barnaby Martin, Daniel Paulusma, Mark Siggers, Siani Smith',\n",
       " 'Hao Wu, Yuxi Fu, Huan Long, Xian Xu, Wenbo Zhang',\n",
       " 'Amal Nanavati, Max Pascher, Vinitha Ranganeni, Ethan K. Gordon, Taylor Kessler Faulkner, Siddhartha S. Srinivasa, Maya Cakmak, Patrícia Alves-Oliveira, Jens Gerken',\n",
       " 'Xianqi Wang, Gangwei Xu, Hao Jia, Xin Yang']"
      ]
     },
     "execution_count": 41,
     "metadata": {},
     "output_type": "execute_result"
    }
   ],
   "source": [
    "Subject"
   ]
  }
 ],
 "metadata": {
  "kernelspec": {
   "display_name": "Python 3 (ipykernel)",
   "language": "python",
   "name": "python3"
  },
  "language_info": {
   "codemirror_mode": {
    "name": "ipython",
    "version": 3
   },
   "file_extension": ".py",
   "mimetype": "text/x-python",
   "name": "python",
   "nbconvert_exporter": "python",
   "pygments_lexer": "ipython3",
   "version": "3.10.12"
  }
 },
 "nbformat": 4,
 "nbformat_minor": 5
}
